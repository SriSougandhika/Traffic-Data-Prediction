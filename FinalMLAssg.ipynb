{
  "nbformat": 4,
  "nbformat_minor": 0,
  "metadata": {
    "colab": {
      "provenance": []
    },
    "kernelspec": {
      "name": "python3",
      "display_name": "Python 3"
    },
    "language_info": {
      "name": "python"
    }
  },
  "cells": [
    {
      "cell_type": "code",
      "execution_count": 1,
      "metadata": {
        "id": "4mEJrv_PvPos"
      },
      "outputs": [],
      "source": [
        "import tensorflow as tf\n",
        "import pandas as pd\n",
        "import matplotlib.pyplot as plt"
      ]
    },
    {
      "cell_type": "markdown",
      "source": [
        "Import the Dataset"
      ],
      "metadata": {
        "id": "CEEgc_ibDmFc"
      }
    },
    {
      "cell_type": "code",
      "source": [
        "from google.colab import files\n",
        "uploaded = files.upload()"
      ],
      "metadata": {
        "colab": {
          "base_uri": "https://localhost:8080/",
          "height": 73
        },
        "id": "HG5Fs6Pfvc7b",
        "outputId": "4ca6e28c-7331-4093-afcf-1e8ce8c103ac"
      },
      "execution_count": 6,
      "outputs": [
        {
          "output_type": "display_data",
          "data": {
            "text/plain": [
              "<IPython.core.display.HTML object>"
            ],
            "text/html": [
              "\n",
              "     <input type=\"file\" id=\"files-ffd8a47c-b33a-4db3-b10c-55261cd86e0f\" name=\"files[]\" multiple disabled\n",
              "        style=\"border:none\" />\n",
              "     <output id=\"result-ffd8a47c-b33a-4db3-b10c-55261cd86e0f\">\n",
              "      Upload widget is only available when the cell has been executed in the\n",
              "      current browser session. Please rerun this cell to enable.\n",
              "      </output>\n",
              "      <script>// Copyright 2017 Google LLC\n",
              "//\n",
              "// Licensed under the Apache License, Version 2.0 (the \"License\");\n",
              "// you may not use this file except in compliance with the License.\n",
              "// You may obtain a copy of the License at\n",
              "//\n",
              "//      http://www.apache.org/licenses/LICENSE-2.0\n",
              "//\n",
              "// Unless required by applicable law or agreed to in writing, software\n",
              "// distributed under the License is distributed on an \"AS IS\" BASIS,\n",
              "// WITHOUT WARRANTIES OR CONDITIONS OF ANY KIND, either express or implied.\n",
              "// See the License for the specific language governing permissions and\n",
              "// limitations under the License.\n",
              "\n",
              "/**\n",
              " * @fileoverview Helpers for google.colab Python module.\n",
              " */\n",
              "(function(scope) {\n",
              "function span(text, styleAttributes = {}) {\n",
              "  const element = document.createElement('span');\n",
              "  element.textContent = text;\n",
              "  for (const key of Object.keys(styleAttributes)) {\n",
              "    element.style[key] = styleAttributes[key];\n",
              "  }\n",
              "  return element;\n",
              "}\n",
              "\n",
              "// Max number of bytes which will be uploaded at a time.\n",
              "const MAX_PAYLOAD_SIZE = 100 * 1024;\n",
              "\n",
              "function _uploadFiles(inputId, outputId) {\n",
              "  const steps = uploadFilesStep(inputId, outputId);\n",
              "  const outputElement = document.getElementById(outputId);\n",
              "  // Cache steps on the outputElement to make it available for the next call\n",
              "  // to uploadFilesContinue from Python.\n",
              "  outputElement.steps = steps;\n",
              "\n",
              "  return _uploadFilesContinue(outputId);\n",
              "}\n",
              "\n",
              "// This is roughly an async generator (not supported in the browser yet),\n",
              "// where there are multiple asynchronous steps and the Python side is going\n",
              "// to poll for completion of each step.\n",
              "// This uses a Promise to block the python side on completion of each step,\n",
              "// then passes the result of the previous step as the input to the next step.\n",
              "function _uploadFilesContinue(outputId) {\n",
              "  const outputElement = document.getElementById(outputId);\n",
              "  const steps = outputElement.steps;\n",
              "\n",
              "  const next = steps.next(outputElement.lastPromiseValue);\n",
              "  return Promise.resolve(next.value.promise).then((value) => {\n",
              "    // Cache the last promise value to make it available to the next\n",
              "    // step of the generator.\n",
              "    outputElement.lastPromiseValue = value;\n",
              "    return next.value.response;\n",
              "  });\n",
              "}\n",
              "\n",
              "/**\n",
              " * Generator function which is called between each async step of the upload\n",
              " * process.\n",
              " * @param {string} inputId Element ID of the input file picker element.\n",
              " * @param {string} outputId Element ID of the output display.\n",
              " * @return {!Iterable<!Object>} Iterable of next steps.\n",
              " */\n",
              "function* uploadFilesStep(inputId, outputId) {\n",
              "  const inputElement = document.getElementById(inputId);\n",
              "  inputElement.disabled = false;\n",
              "\n",
              "  const outputElement = document.getElementById(outputId);\n",
              "  outputElement.innerHTML = '';\n",
              "\n",
              "  const pickedPromise = new Promise((resolve) => {\n",
              "    inputElement.addEventListener('change', (e) => {\n",
              "      resolve(e.target.files);\n",
              "    });\n",
              "  });\n",
              "\n",
              "  const cancel = document.createElement('button');\n",
              "  inputElement.parentElement.appendChild(cancel);\n",
              "  cancel.textContent = 'Cancel upload';\n",
              "  const cancelPromise = new Promise((resolve) => {\n",
              "    cancel.onclick = () => {\n",
              "      resolve(null);\n",
              "    };\n",
              "  });\n",
              "\n",
              "  // Wait for the user to pick the files.\n",
              "  const files = yield {\n",
              "    promise: Promise.race([pickedPromise, cancelPromise]),\n",
              "    response: {\n",
              "      action: 'starting',\n",
              "    }\n",
              "  };\n",
              "\n",
              "  cancel.remove();\n",
              "\n",
              "  // Disable the input element since further picks are not allowed.\n",
              "  inputElement.disabled = true;\n",
              "\n",
              "  if (!files) {\n",
              "    return {\n",
              "      response: {\n",
              "        action: 'complete',\n",
              "      }\n",
              "    };\n",
              "  }\n",
              "\n",
              "  for (const file of files) {\n",
              "    const li = document.createElement('li');\n",
              "    li.append(span(file.name, {fontWeight: 'bold'}));\n",
              "    li.append(span(\n",
              "        `(${file.type || 'n/a'}) - ${file.size} bytes, ` +\n",
              "        `last modified: ${\n",
              "            file.lastModifiedDate ? file.lastModifiedDate.toLocaleDateString() :\n",
              "                                    'n/a'} - `));\n",
              "    const percent = span('0% done');\n",
              "    li.appendChild(percent);\n",
              "\n",
              "    outputElement.appendChild(li);\n",
              "\n",
              "    const fileDataPromise = new Promise((resolve) => {\n",
              "      const reader = new FileReader();\n",
              "      reader.onload = (e) => {\n",
              "        resolve(e.target.result);\n",
              "      };\n",
              "      reader.readAsArrayBuffer(file);\n",
              "    });\n",
              "    // Wait for the data to be ready.\n",
              "    let fileData = yield {\n",
              "      promise: fileDataPromise,\n",
              "      response: {\n",
              "        action: 'continue',\n",
              "      }\n",
              "    };\n",
              "\n",
              "    // Use a chunked sending to avoid message size limits. See b/62115660.\n",
              "    let position = 0;\n",
              "    do {\n",
              "      const length = Math.min(fileData.byteLength - position, MAX_PAYLOAD_SIZE);\n",
              "      const chunk = new Uint8Array(fileData, position, length);\n",
              "      position += length;\n",
              "\n",
              "      const base64 = btoa(String.fromCharCode.apply(null, chunk));\n",
              "      yield {\n",
              "        response: {\n",
              "          action: 'append',\n",
              "          file: file.name,\n",
              "          data: base64,\n",
              "        },\n",
              "      };\n",
              "\n",
              "      let percentDone = fileData.byteLength === 0 ?\n",
              "          100 :\n",
              "          Math.round((position / fileData.byteLength) * 100);\n",
              "      percent.textContent = `${percentDone}% done`;\n",
              "\n",
              "    } while (position < fileData.byteLength);\n",
              "  }\n",
              "\n",
              "  // All done.\n",
              "  yield {\n",
              "    response: {\n",
              "      action: 'complete',\n",
              "    }\n",
              "  };\n",
              "}\n",
              "\n",
              "scope.google = scope.google || {};\n",
              "scope.google.colab = scope.google.colab || {};\n",
              "scope.google.colab._files = {\n",
              "  _uploadFiles,\n",
              "  _uploadFilesContinue,\n",
              "};\n",
              "})(self);\n",
              "</script> "
            ]
          },
          "metadata": {}
        },
        {
          "output_type": "stream",
          "name": "stdout",
          "text": [
            "Saving mldata.xlsx to mldata (1).xlsx\n"
          ]
        }
      ]
    },
    {
      "cell_type": "code",
      "source": [
        "df = pd.read_excel('mldata (1).xlsx')\n",
        "df"
      ],
      "metadata": {
        "colab": {
          "base_uri": "https://localhost:8080/",
          "height": 423
        },
        "id": "KXg8m8aWvi33",
        "outputId": "d6ea2da8-f6ac-4964-bda5-4fd7c311435a"
      },
      "execution_count": 8,
      "outputs": [
        {
          "output_type": "execute_result",
          "data": {
            "text/plain": [
              "            day  occupancy  speed    flow  lanepts   %obs\n",
              "0    2018-01-01       11.6   60.6  102591     1152    0.0\n",
              "1    2018-01-02       11.4   61.8  104009     1152    0.0\n",
              "2    2018-01-03       11.0   62.2  103958     1152  100.0\n",
              "3    2018-01-04       11.2   62.4  105621     1152  100.0\n",
              "4    2018-01-05       11.6   61.2  109556     1152  100.0\n",
              "...         ...        ...    ...     ...      ...    ...\n",
              "1822 2022-12-28        4.0   65.1   43909     1152  100.0\n",
              "1823 2022-12-29        4.9   63.4   48448     1152  100.0\n",
              "1824 2022-12-30        4.9   63.2   52664     1152   99.0\n",
              "1825 2022-12-31        2.7   67.7   37332     1152  100.0\n",
              "1826 2023-01-01        4.1   65.9   49300     1152   75.0\n",
              "\n",
              "[1827 rows x 6 columns]"
            ],
            "text/html": [
              "\n",
              "  <div id=\"df-d3129f69-4dec-43a7-913b-3930fcdf5ad9\" class=\"colab-df-container\">\n",
              "    <div>\n",
              "<style scoped>\n",
              "    .dataframe tbody tr th:only-of-type {\n",
              "        vertical-align: middle;\n",
              "    }\n",
              "\n",
              "    .dataframe tbody tr th {\n",
              "        vertical-align: top;\n",
              "    }\n",
              "\n",
              "    .dataframe thead th {\n",
              "        text-align: right;\n",
              "    }\n",
              "</style>\n",
              "<table border=\"1\" class=\"dataframe\">\n",
              "  <thead>\n",
              "    <tr style=\"text-align: right;\">\n",
              "      <th></th>\n",
              "      <th>day</th>\n",
              "      <th>occupancy</th>\n",
              "      <th>speed</th>\n",
              "      <th>flow</th>\n",
              "      <th>lanepts</th>\n",
              "      <th>%obs</th>\n",
              "    </tr>\n",
              "  </thead>\n",
              "  <tbody>\n",
              "    <tr>\n",
              "      <th>0</th>\n",
              "      <td>2018-01-01</td>\n",
              "      <td>11.6</td>\n",
              "      <td>60.6</td>\n",
              "      <td>102591</td>\n",
              "      <td>1152</td>\n",
              "      <td>0.0</td>\n",
              "    </tr>\n",
              "    <tr>\n",
              "      <th>1</th>\n",
              "      <td>2018-01-02</td>\n",
              "      <td>11.4</td>\n",
              "      <td>61.8</td>\n",
              "      <td>104009</td>\n",
              "      <td>1152</td>\n",
              "      <td>0.0</td>\n",
              "    </tr>\n",
              "    <tr>\n",
              "      <th>2</th>\n",
              "      <td>2018-01-03</td>\n",
              "      <td>11.0</td>\n",
              "      <td>62.2</td>\n",
              "      <td>103958</td>\n",
              "      <td>1152</td>\n",
              "      <td>100.0</td>\n",
              "    </tr>\n",
              "    <tr>\n",
              "      <th>3</th>\n",
              "      <td>2018-01-04</td>\n",
              "      <td>11.2</td>\n",
              "      <td>62.4</td>\n",
              "      <td>105621</td>\n",
              "      <td>1152</td>\n",
              "      <td>100.0</td>\n",
              "    </tr>\n",
              "    <tr>\n",
              "      <th>4</th>\n",
              "      <td>2018-01-05</td>\n",
              "      <td>11.6</td>\n",
              "      <td>61.2</td>\n",
              "      <td>109556</td>\n",
              "      <td>1152</td>\n",
              "      <td>100.0</td>\n",
              "    </tr>\n",
              "    <tr>\n",
              "      <th>...</th>\n",
              "      <td>...</td>\n",
              "      <td>...</td>\n",
              "      <td>...</td>\n",
              "      <td>...</td>\n",
              "      <td>...</td>\n",
              "      <td>...</td>\n",
              "    </tr>\n",
              "    <tr>\n",
              "      <th>1822</th>\n",
              "      <td>2022-12-28</td>\n",
              "      <td>4.0</td>\n",
              "      <td>65.1</td>\n",
              "      <td>43909</td>\n",
              "      <td>1152</td>\n",
              "      <td>100.0</td>\n",
              "    </tr>\n",
              "    <tr>\n",
              "      <th>1823</th>\n",
              "      <td>2022-12-29</td>\n",
              "      <td>4.9</td>\n",
              "      <td>63.4</td>\n",
              "      <td>48448</td>\n",
              "      <td>1152</td>\n",
              "      <td>100.0</td>\n",
              "    </tr>\n",
              "    <tr>\n",
              "      <th>1824</th>\n",
              "      <td>2022-12-30</td>\n",
              "      <td>4.9</td>\n",
              "      <td>63.2</td>\n",
              "      <td>52664</td>\n",
              "      <td>1152</td>\n",
              "      <td>99.0</td>\n",
              "    </tr>\n",
              "    <tr>\n",
              "      <th>1825</th>\n",
              "      <td>2022-12-31</td>\n",
              "      <td>2.7</td>\n",
              "      <td>67.7</td>\n",
              "      <td>37332</td>\n",
              "      <td>1152</td>\n",
              "      <td>100.0</td>\n",
              "    </tr>\n",
              "    <tr>\n",
              "      <th>1826</th>\n",
              "      <td>2023-01-01</td>\n",
              "      <td>4.1</td>\n",
              "      <td>65.9</td>\n",
              "      <td>49300</td>\n",
              "      <td>1152</td>\n",
              "      <td>75.0</td>\n",
              "    </tr>\n",
              "  </tbody>\n",
              "</table>\n",
              "<p>1827 rows × 6 columns</p>\n",
              "</div>\n",
              "    <div class=\"colab-df-buttons\">\n",
              "\n",
              "  <div class=\"colab-df-container\">\n",
              "    <button class=\"colab-df-convert\" onclick=\"convertToInteractive('df-d3129f69-4dec-43a7-913b-3930fcdf5ad9')\"\n",
              "            title=\"Convert this dataframe to an interactive table.\"\n",
              "            style=\"display:none;\">\n",
              "\n",
              "  <svg xmlns=\"http://www.w3.org/2000/svg\" height=\"24px\" viewBox=\"0 -960 960 960\">\n",
              "    <path d=\"M120-120v-720h720v720H120Zm60-500h600v-160H180v160Zm220 220h160v-160H400v160Zm0 220h160v-160H400v160ZM180-400h160v-160H180v160Zm440 0h160v-160H620v160ZM180-180h160v-160H180v160Zm440 0h160v-160H620v160Z\"/>\n",
              "  </svg>\n",
              "    </button>\n",
              "\n",
              "  <style>\n",
              "    .colab-df-container {\n",
              "      display:flex;\n",
              "      gap: 12px;\n",
              "    }\n",
              "\n",
              "    .colab-df-convert {\n",
              "      background-color: #E8F0FE;\n",
              "      border: none;\n",
              "      border-radius: 50%;\n",
              "      cursor: pointer;\n",
              "      display: none;\n",
              "      fill: #1967D2;\n",
              "      height: 32px;\n",
              "      padding: 0 0 0 0;\n",
              "      width: 32px;\n",
              "    }\n",
              "\n",
              "    .colab-df-convert:hover {\n",
              "      background-color: #E2EBFA;\n",
              "      box-shadow: 0px 1px 2px rgba(60, 64, 67, 0.3), 0px 1px 3px 1px rgba(60, 64, 67, 0.15);\n",
              "      fill: #174EA6;\n",
              "    }\n",
              "\n",
              "    .colab-df-buttons div {\n",
              "      margin-bottom: 4px;\n",
              "    }\n",
              "\n",
              "    [theme=dark] .colab-df-convert {\n",
              "      background-color: #3B4455;\n",
              "      fill: #D2E3FC;\n",
              "    }\n",
              "\n",
              "    [theme=dark] .colab-df-convert:hover {\n",
              "      background-color: #434B5C;\n",
              "      box-shadow: 0px 1px 3px 1px rgba(0, 0, 0, 0.15);\n",
              "      filter: drop-shadow(0px 1px 2px rgba(0, 0, 0, 0.3));\n",
              "      fill: #FFFFFF;\n",
              "    }\n",
              "  </style>\n",
              "\n",
              "    <script>\n",
              "      const buttonEl =\n",
              "        document.querySelector('#df-d3129f69-4dec-43a7-913b-3930fcdf5ad9 button.colab-df-convert');\n",
              "      buttonEl.style.display =\n",
              "        google.colab.kernel.accessAllowed ? 'block' : 'none';\n",
              "\n",
              "      async function convertToInteractive(key) {\n",
              "        const element = document.querySelector('#df-d3129f69-4dec-43a7-913b-3930fcdf5ad9');\n",
              "        const dataTable =\n",
              "          await google.colab.kernel.invokeFunction('convertToInteractive',\n",
              "                                                    [key], {});\n",
              "        if (!dataTable) return;\n",
              "\n",
              "        const docLinkHtml = 'Like what you see? Visit the ' +\n",
              "          '<a target=\"_blank\" href=https://colab.research.google.com/notebooks/data_table.ipynb>data table notebook</a>'\n",
              "          + ' to learn more about interactive tables.';\n",
              "        element.innerHTML = '';\n",
              "        dataTable['output_type'] = 'display_data';\n",
              "        await google.colab.output.renderOutput(dataTable, element);\n",
              "        const docLink = document.createElement('div');\n",
              "        docLink.innerHTML = docLinkHtml;\n",
              "        element.appendChild(docLink);\n",
              "      }\n",
              "    </script>\n",
              "  </div>\n",
              "\n",
              "\n",
              "<div id=\"df-8aff639a-2804-416b-ae02-f42ced3bfc87\">\n",
              "  <button class=\"colab-df-quickchart\" onclick=\"quickchart('df-8aff639a-2804-416b-ae02-f42ced3bfc87')\"\n",
              "            title=\"Suggest charts.\"\n",
              "            style=\"display:none;\">\n",
              "\n",
              "<svg xmlns=\"http://www.w3.org/2000/svg\" height=\"24px\"viewBox=\"0 0 24 24\"\n",
              "     width=\"24px\">\n",
              "    <g>\n",
              "        <path d=\"M19 3H5c-1.1 0-2 .9-2 2v14c0 1.1.9 2 2 2h14c1.1 0 2-.9 2-2V5c0-1.1-.9-2-2-2zM9 17H7v-7h2v7zm4 0h-2V7h2v10zm4 0h-2v-4h2v4z\"/>\n",
              "    </g>\n",
              "</svg>\n",
              "  </button>\n",
              "\n",
              "<style>\n",
              "  .colab-df-quickchart {\n",
              "      --bg-color: #E8F0FE;\n",
              "      --fill-color: #1967D2;\n",
              "      --hover-bg-color: #E2EBFA;\n",
              "      --hover-fill-color: #174EA6;\n",
              "      --disabled-fill-color: #AAA;\n",
              "      --disabled-bg-color: #DDD;\n",
              "  }\n",
              "\n",
              "  [theme=dark] .colab-df-quickchart {\n",
              "      --bg-color: #3B4455;\n",
              "      --fill-color: #D2E3FC;\n",
              "      --hover-bg-color: #434B5C;\n",
              "      --hover-fill-color: #FFFFFF;\n",
              "      --disabled-bg-color: #3B4455;\n",
              "      --disabled-fill-color: #666;\n",
              "  }\n",
              "\n",
              "  .colab-df-quickchart {\n",
              "    background-color: var(--bg-color);\n",
              "    border: none;\n",
              "    border-radius: 50%;\n",
              "    cursor: pointer;\n",
              "    display: none;\n",
              "    fill: var(--fill-color);\n",
              "    height: 32px;\n",
              "    padding: 0;\n",
              "    width: 32px;\n",
              "  }\n",
              "\n",
              "  .colab-df-quickchart:hover {\n",
              "    background-color: var(--hover-bg-color);\n",
              "    box-shadow: 0 1px 2px rgba(60, 64, 67, 0.3), 0 1px 3px 1px rgba(60, 64, 67, 0.15);\n",
              "    fill: var(--button-hover-fill-color);\n",
              "  }\n",
              "\n",
              "  .colab-df-quickchart-complete:disabled,\n",
              "  .colab-df-quickchart-complete:disabled:hover {\n",
              "    background-color: var(--disabled-bg-color);\n",
              "    fill: var(--disabled-fill-color);\n",
              "    box-shadow: none;\n",
              "  }\n",
              "\n",
              "  .colab-df-spinner {\n",
              "    border: 2px solid var(--fill-color);\n",
              "    border-color: transparent;\n",
              "    border-bottom-color: var(--fill-color);\n",
              "    animation:\n",
              "      spin 1s steps(1) infinite;\n",
              "  }\n",
              "\n",
              "  @keyframes spin {\n",
              "    0% {\n",
              "      border-color: transparent;\n",
              "      border-bottom-color: var(--fill-color);\n",
              "      border-left-color: var(--fill-color);\n",
              "    }\n",
              "    20% {\n",
              "      border-color: transparent;\n",
              "      border-left-color: var(--fill-color);\n",
              "      border-top-color: var(--fill-color);\n",
              "    }\n",
              "    30% {\n",
              "      border-color: transparent;\n",
              "      border-left-color: var(--fill-color);\n",
              "      border-top-color: var(--fill-color);\n",
              "      border-right-color: var(--fill-color);\n",
              "    }\n",
              "    40% {\n",
              "      border-color: transparent;\n",
              "      border-right-color: var(--fill-color);\n",
              "      border-top-color: var(--fill-color);\n",
              "    }\n",
              "    60% {\n",
              "      border-color: transparent;\n",
              "      border-right-color: var(--fill-color);\n",
              "    }\n",
              "    80% {\n",
              "      border-color: transparent;\n",
              "      border-right-color: var(--fill-color);\n",
              "      border-bottom-color: var(--fill-color);\n",
              "    }\n",
              "    90% {\n",
              "      border-color: transparent;\n",
              "      border-bottom-color: var(--fill-color);\n",
              "    }\n",
              "  }\n",
              "</style>\n",
              "\n",
              "  <script>\n",
              "    async function quickchart(key) {\n",
              "      const quickchartButtonEl =\n",
              "        document.querySelector('#' + key + ' button');\n",
              "      quickchartButtonEl.disabled = true;  // To prevent multiple clicks.\n",
              "      quickchartButtonEl.classList.add('colab-df-spinner');\n",
              "      try {\n",
              "        const charts = await google.colab.kernel.invokeFunction(\n",
              "            'suggestCharts', [key], {});\n",
              "      } catch (error) {\n",
              "        console.error('Error during call to suggestCharts:', error);\n",
              "      }\n",
              "      quickchartButtonEl.classList.remove('colab-df-spinner');\n",
              "      quickchartButtonEl.classList.add('colab-df-quickchart-complete');\n",
              "    }\n",
              "    (() => {\n",
              "      let quickchartButtonEl =\n",
              "        document.querySelector('#df-8aff639a-2804-416b-ae02-f42ced3bfc87 button');\n",
              "      quickchartButtonEl.style.display =\n",
              "        google.colab.kernel.accessAllowed ? 'block' : 'none';\n",
              "    })();\n",
              "  </script>\n",
              "</div>\n",
              "    </div>\n",
              "  </div>\n"
            ]
          },
          "metadata": {},
          "execution_count": 8
        }
      ]
    },
    {
      "cell_type": "code",
      "source": [
        "type(df['day'][0])"
      ],
      "metadata": {
        "colab": {
          "base_uri": "https://localhost:8080/"
        },
        "id": "BYGdu-S0aJg-",
        "outputId": "ad223760-2fde-4513-b07b-405ad9ff2679"
      },
      "execution_count": 11,
      "outputs": [
        {
          "output_type": "execute_result",
          "data": {
            "text/plain": [
              "pandas._libs.tslibs.timestamps.Timestamp"
            ]
          },
          "metadata": {},
          "execution_count": 11
        }
      ]
    },
    {
      "cell_type": "markdown",
      "source": [
        "Check for the correlation among the quantities flow, speed and occupancy"
      ],
      "metadata": {
        "id": "8VOQRKioDqgl"
      }
    },
    {
      "cell_type": "code",
      "source": [
        "step = 1\n",
        "pres = df[['speed','occupancy','flow']][0:-(step)].reset_index(drop=True)\n",
        "future = df[['speed','occupancy','flow']][step:] \\\n",
        "    .reset_index(drop=True) \\\n",
        "    .add_suffix('_future')\n",
        "val = pres.join(future)\n",
        "val.corr()"
      ],
      "metadata": {
        "colab": {
          "base_uri": "https://localhost:8080/",
          "height": 237
        },
        "id": "Sk1hrOINSSKJ",
        "outputId": "b05d3408-018e-48ad-f8da-1d3102f5e161"
      },
      "execution_count": 13,
      "outputs": [
        {
          "output_type": "execute_result",
          "data": {
            "text/plain": [
              "                     speed  occupancy      flow  speed_future  \\\n",
              "speed             1.000000  -0.746230 -0.046216      0.550783   \n",
              "occupancy        -0.746230   1.000000  0.556323     -0.321936   \n",
              "flow             -0.046216   0.556323  1.000000      0.058447   \n",
              "speed_future      0.550783  -0.321936  0.058447      1.000000   \n",
              "occupancy_future -0.390883   0.516569  0.331841     -0.746551   \n",
              "flow_future      -0.033725   0.432464  0.769364     -0.047911   \n",
              "\n",
              "                  occupancy_future  flow_future  \n",
              "speed                    -0.390883    -0.033725  \n",
              "occupancy                 0.516569     0.432464  \n",
              "flow                      0.331841     0.769364  \n",
              "speed_future             -0.746551    -0.047911  \n",
              "occupancy_future          1.000000     0.557517  \n",
              "flow_future               0.557517     1.000000  "
            ],
            "text/html": [
              "\n",
              "  <div id=\"df-5c1aceda-fee7-472f-b08f-fa5cb9c0268d\" class=\"colab-df-container\">\n",
              "    <div>\n",
              "<style scoped>\n",
              "    .dataframe tbody tr th:only-of-type {\n",
              "        vertical-align: middle;\n",
              "    }\n",
              "\n",
              "    .dataframe tbody tr th {\n",
              "        vertical-align: top;\n",
              "    }\n",
              "\n",
              "    .dataframe thead th {\n",
              "        text-align: right;\n",
              "    }\n",
              "</style>\n",
              "<table border=\"1\" class=\"dataframe\">\n",
              "  <thead>\n",
              "    <tr style=\"text-align: right;\">\n",
              "      <th></th>\n",
              "      <th>speed</th>\n",
              "      <th>occupancy</th>\n",
              "      <th>flow</th>\n",
              "      <th>speed_future</th>\n",
              "      <th>occupancy_future</th>\n",
              "      <th>flow_future</th>\n",
              "    </tr>\n",
              "  </thead>\n",
              "  <tbody>\n",
              "    <tr>\n",
              "      <th>speed</th>\n",
              "      <td>1.000000</td>\n",
              "      <td>-0.746230</td>\n",
              "      <td>-0.046216</td>\n",
              "      <td>0.550783</td>\n",
              "      <td>-0.390883</td>\n",
              "      <td>-0.033725</td>\n",
              "    </tr>\n",
              "    <tr>\n",
              "      <th>occupancy</th>\n",
              "      <td>-0.746230</td>\n",
              "      <td>1.000000</td>\n",
              "      <td>0.556323</td>\n",
              "      <td>-0.321936</td>\n",
              "      <td>0.516569</td>\n",
              "      <td>0.432464</td>\n",
              "    </tr>\n",
              "    <tr>\n",
              "      <th>flow</th>\n",
              "      <td>-0.046216</td>\n",
              "      <td>0.556323</td>\n",
              "      <td>1.000000</td>\n",
              "      <td>0.058447</td>\n",
              "      <td>0.331841</td>\n",
              "      <td>0.769364</td>\n",
              "    </tr>\n",
              "    <tr>\n",
              "      <th>speed_future</th>\n",
              "      <td>0.550783</td>\n",
              "      <td>-0.321936</td>\n",
              "      <td>0.058447</td>\n",
              "      <td>1.000000</td>\n",
              "      <td>-0.746551</td>\n",
              "      <td>-0.047911</td>\n",
              "    </tr>\n",
              "    <tr>\n",
              "      <th>occupancy_future</th>\n",
              "      <td>-0.390883</td>\n",
              "      <td>0.516569</td>\n",
              "      <td>0.331841</td>\n",
              "      <td>-0.746551</td>\n",
              "      <td>1.000000</td>\n",
              "      <td>0.557517</td>\n",
              "    </tr>\n",
              "    <tr>\n",
              "      <th>flow_future</th>\n",
              "      <td>-0.033725</td>\n",
              "      <td>0.432464</td>\n",
              "      <td>0.769364</td>\n",
              "      <td>-0.047911</td>\n",
              "      <td>0.557517</td>\n",
              "      <td>1.000000</td>\n",
              "    </tr>\n",
              "  </tbody>\n",
              "</table>\n",
              "</div>\n",
              "    <div class=\"colab-df-buttons\">\n",
              "\n",
              "  <div class=\"colab-df-container\">\n",
              "    <button class=\"colab-df-convert\" onclick=\"convertToInteractive('df-5c1aceda-fee7-472f-b08f-fa5cb9c0268d')\"\n",
              "            title=\"Convert this dataframe to an interactive table.\"\n",
              "            style=\"display:none;\">\n",
              "\n",
              "  <svg xmlns=\"http://www.w3.org/2000/svg\" height=\"24px\" viewBox=\"0 -960 960 960\">\n",
              "    <path d=\"M120-120v-720h720v720H120Zm60-500h600v-160H180v160Zm220 220h160v-160H400v160Zm0 220h160v-160H400v160ZM180-400h160v-160H180v160Zm440 0h160v-160H620v160ZM180-180h160v-160H180v160Zm440 0h160v-160H620v160Z\"/>\n",
              "  </svg>\n",
              "    </button>\n",
              "\n",
              "  <style>\n",
              "    .colab-df-container {\n",
              "      display:flex;\n",
              "      gap: 12px;\n",
              "    }\n",
              "\n",
              "    .colab-df-convert {\n",
              "      background-color: #E8F0FE;\n",
              "      border: none;\n",
              "      border-radius: 50%;\n",
              "      cursor: pointer;\n",
              "      display: none;\n",
              "      fill: #1967D2;\n",
              "      height: 32px;\n",
              "      padding: 0 0 0 0;\n",
              "      width: 32px;\n",
              "    }\n",
              "\n",
              "    .colab-df-convert:hover {\n",
              "      background-color: #E2EBFA;\n",
              "      box-shadow: 0px 1px 2px rgba(60, 64, 67, 0.3), 0px 1px 3px 1px rgba(60, 64, 67, 0.15);\n",
              "      fill: #174EA6;\n",
              "    }\n",
              "\n",
              "    .colab-df-buttons div {\n",
              "      margin-bottom: 4px;\n",
              "    }\n",
              "\n",
              "    [theme=dark] .colab-df-convert {\n",
              "      background-color: #3B4455;\n",
              "      fill: #D2E3FC;\n",
              "    }\n",
              "\n",
              "    [theme=dark] .colab-df-convert:hover {\n",
              "      background-color: #434B5C;\n",
              "      box-shadow: 0px 1px 3px 1px rgba(0, 0, 0, 0.15);\n",
              "      filter: drop-shadow(0px 1px 2px rgba(0, 0, 0, 0.3));\n",
              "      fill: #FFFFFF;\n",
              "    }\n",
              "  </style>\n",
              "\n",
              "    <script>\n",
              "      const buttonEl =\n",
              "        document.querySelector('#df-5c1aceda-fee7-472f-b08f-fa5cb9c0268d button.colab-df-convert');\n",
              "      buttonEl.style.display =\n",
              "        google.colab.kernel.accessAllowed ? 'block' : 'none';\n",
              "\n",
              "      async function convertToInteractive(key) {\n",
              "        const element = document.querySelector('#df-5c1aceda-fee7-472f-b08f-fa5cb9c0268d');\n",
              "        const dataTable =\n",
              "          await google.colab.kernel.invokeFunction('convertToInteractive',\n",
              "                                                    [key], {});\n",
              "        if (!dataTable) return;\n",
              "\n",
              "        const docLinkHtml = 'Like what you see? Visit the ' +\n",
              "          '<a target=\"_blank\" href=https://colab.research.google.com/notebooks/data_table.ipynb>data table notebook</a>'\n",
              "          + ' to learn more about interactive tables.';\n",
              "        element.innerHTML = '';\n",
              "        dataTable['output_type'] = 'display_data';\n",
              "        await google.colab.output.renderOutput(dataTable, element);\n",
              "        const docLink = document.createElement('div');\n",
              "        docLink.innerHTML = docLinkHtml;\n",
              "        element.appendChild(docLink);\n",
              "      }\n",
              "    </script>\n",
              "  </div>\n",
              "\n",
              "\n",
              "<div id=\"df-30173a74-e7f5-4338-9aed-41ba1c0b90ba\">\n",
              "  <button class=\"colab-df-quickchart\" onclick=\"quickchart('df-30173a74-e7f5-4338-9aed-41ba1c0b90ba')\"\n",
              "            title=\"Suggest charts.\"\n",
              "            style=\"display:none;\">\n",
              "\n",
              "<svg xmlns=\"http://www.w3.org/2000/svg\" height=\"24px\"viewBox=\"0 0 24 24\"\n",
              "     width=\"24px\">\n",
              "    <g>\n",
              "        <path d=\"M19 3H5c-1.1 0-2 .9-2 2v14c0 1.1.9 2 2 2h14c1.1 0 2-.9 2-2V5c0-1.1-.9-2-2-2zM9 17H7v-7h2v7zm4 0h-2V7h2v10zm4 0h-2v-4h2v4z\"/>\n",
              "    </g>\n",
              "</svg>\n",
              "  </button>\n",
              "\n",
              "<style>\n",
              "  .colab-df-quickchart {\n",
              "      --bg-color: #E8F0FE;\n",
              "      --fill-color: #1967D2;\n",
              "      --hover-bg-color: #E2EBFA;\n",
              "      --hover-fill-color: #174EA6;\n",
              "      --disabled-fill-color: #AAA;\n",
              "      --disabled-bg-color: #DDD;\n",
              "  }\n",
              "\n",
              "  [theme=dark] .colab-df-quickchart {\n",
              "      --bg-color: #3B4455;\n",
              "      --fill-color: #D2E3FC;\n",
              "      --hover-bg-color: #434B5C;\n",
              "      --hover-fill-color: #FFFFFF;\n",
              "      --disabled-bg-color: #3B4455;\n",
              "      --disabled-fill-color: #666;\n",
              "  }\n",
              "\n",
              "  .colab-df-quickchart {\n",
              "    background-color: var(--bg-color);\n",
              "    border: none;\n",
              "    border-radius: 50%;\n",
              "    cursor: pointer;\n",
              "    display: none;\n",
              "    fill: var(--fill-color);\n",
              "    height: 32px;\n",
              "    padding: 0;\n",
              "    width: 32px;\n",
              "  }\n",
              "\n",
              "  .colab-df-quickchart:hover {\n",
              "    background-color: var(--hover-bg-color);\n",
              "    box-shadow: 0 1px 2px rgba(60, 64, 67, 0.3), 0 1px 3px 1px rgba(60, 64, 67, 0.15);\n",
              "    fill: var(--button-hover-fill-color);\n",
              "  }\n",
              "\n",
              "  .colab-df-quickchart-complete:disabled,\n",
              "  .colab-df-quickchart-complete:disabled:hover {\n",
              "    background-color: var(--disabled-bg-color);\n",
              "    fill: var(--disabled-fill-color);\n",
              "    box-shadow: none;\n",
              "  }\n",
              "\n",
              "  .colab-df-spinner {\n",
              "    border: 2px solid var(--fill-color);\n",
              "    border-color: transparent;\n",
              "    border-bottom-color: var(--fill-color);\n",
              "    animation:\n",
              "      spin 1s steps(1) infinite;\n",
              "  }\n",
              "\n",
              "  @keyframes spin {\n",
              "    0% {\n",
              "      border-color: transparent;\n",
              "      border-bottom-color: var(--fill-color);\n",
              "      border-left-color: var(--fill-color);\n",
              "    }\n",
              "    20% {\n",
              "      border-color: transparent;\n",
              "      border-left-color: var(--fill-color);\n",
              "      border-top-color: var(--fill-color);\n",
              "    }\n",
              "    30% {\n",
              "      border-color: transparent;\n",
              "      border-left-color: var(--fill-color);\n",
              "      border-top-color: var(--fill-color);\n",
              "      border-right-color: var(--fill-color);\n",
              "    }\n",
              "    40% {\n",
              "      border-color: transparent;\n",
              "      border-right-color: var(--fill-color);\n",
              "      border-top-color: var(--fill-color);\n",
              "    }\n",
              "    60% {\n",
              "      border-color: transparent;\n",
              "      border-right-color: var(--fill-color);\n",
              "    }\n",
              "    80% {\n",
              "      border-color: transparent;\n",
              "      border-right-color: var(--fill-color);\n",
              "      border-bottom-color: var(--fill-color);\n",
              "    }\n",
              "    90% {\n",
              "      border-color: transparent;\n",
              "      border-bottom-color: var(--fill-color);\n",
              "    }\n",
              "  }\n",
              "</style>\n",
              "\n",
              "  <script>\n",
              "    async function quickchart(key) {\n",
              "      const quickchartButtonEl =\n",
              "        document.querySelector('#' + key + ' button');\n",
              "      quickchartButtonEl.disabled = true;  // To prevent multiple clicks.\n",
              "      quickchartButtonEl.classList.add('colab-df-spinner');\n",
              "      try {\n",
              "        const charts = await google.colab.kernel.invokeFunction(\n",
              "            'suggestCharts', [key], {});\n",
              "      } catch (error) {\n",
              "        console.error('Error during call to suggestCharts:', error);\n",
              "      }\n",
              "      quickchartButtonEl.classList.remove('colab-df-spinner');\n",
              "      quickchartButtonEl.classList.add('colab-df-quickchart-complete');\n",
              "    }\n",
              "    (() => {\n",
              "      let quickchartButtonEl =\n",
              "        document.querySelector('#df-30173a74-e7f5-4338-9aed-41ba1c0b90ba button');\n",
              "      quickchartButtonEl.style.display =\n",
              "        google.colab.kernel.accessAllowed ? 'block' : 'none';\n",
              "    })();\n",
              "  </script>\n",
              "</div>\n",
              "    </div>\n",
              "  </div>\n"
            ]
          },
          "metadata": {},
          "execution_count": 13
        }
      ]
    },
    {
      "cell_type": "code",
      "source": [
        "df['speed'][:500].plot()"
      ],
      "metadata": {
        "colab": {
          "base_uri": "https://localhost:8080/",
          "height": 447
        },
        "id": "3Z3J6-1obPkh",
        "outputId": "7fb837e5-ed90-4439-9144-b051247a67ca"
      },
      "execution_count": 15,
      "outputs": [
        {
          "output_type": "execute_result",
          "data": {
            "text/plain": [
              "<Axes: >"
            ]
          },
          "metadata": {},
          "execution_count": 15
        },
        {
          "output_type": "display_data",
          "data": {
            "text/plain": [
              "<Figure size 640x480 with 1 Axes>"
            ],
            "image/png": "[encoded data removed]"
          },
          "metadata": {}
        }
      ]
    },
    {
      "cell_type": "code",
      "source": [
        "df['occupancy'][:500].plot()"
      ],
      "metadata": {
        "colab": {
          "base_uri": "https://localhost:8080/",
          "height": 449
        },
        "id": "sTESnHM1baa_",
        "outputId": "b59a8279-3ab6-41bd-a79a-eff30e43df96"
      },
      "execution_count": 16,
      "outputs": [
        {
          "output_type": "execute_result",
          "data": {
            "text/plain": [
              "<Axes: >"
            ]
          },
          "metadata": {},
          "execution_count": 16
        },
        {
          "output_type": "display_data",
          "data": {
            "text/plain": [
              "<Figure size 640x480 with 1 Axes>"
            ],
            "image/png": "[encoded data removed]"
          },
          "metadata": {}
        }
      ]
    },
    {
      "cell_type": "code",
      "source": [
        "df['flow'][:500].plot()"
      ],
      "metadata": {
        "colab": {
          "base_uri": "https://localhost:8080/",
          "height": 447
        },
        "id": "aV6h3zalbdqB",
        "outputId": "7f074bc8-f2d9-4e67-dc5a-b9dc5ea18afb"
      },
      "execution_count": 17,
      "outputs": [
        {
          "output_type": "execute_result",
          "data": {
            "text/plain": [
              "<Axes: >"
            ]
          },
          "metadata": {},
          "execution_count": 17
        },
        {
          "output_type": "display_data",
          "data": {
            "text/plain": [
              "<Figure size 640x480 with 1 Axes>"
            ],
            "image/png": "[encoded data removed]"
          },
          "metadata": {}
        }
      ]
    },
    {
      "cell_type": "markdown",
      "source": [
        "A correlation of 0.7 to 0.9: is a strong positive correlation. This means that there is a strong positive relationship between the two variables being measured. In other words, as the value of one variable increases, the value of the other variable also tends to increase."
      ],
      "metadata": {
        "id": "ZkU97YPSTEds"
      }
    },
    {
      "cell_type": "markdown",
      "source": [
        "Set the x and y arrays"
      ],
      "metadata": {
        "id": "QI2Dp_yUDyRg"
      }
    },
    {
      "cell_type": "code",
      "source": [
        "import numpy as np\n",
        "#let inputs be speed and flow, and we will predict the occupancy\n",
        "x=np.array(df[['speed','flow']])\n",
        "y=np.array(df['occupancy'])"
      ],
      "metadata": {
        "id": "VoHq7xz7x70b"
      },
      "execution_count": 66,
      "outputs": []
    },
    {
      "cell_type": "markdown",
      "source": [
        "Perform the train test split:"
      ],
      "metadata": {
        "id": "S0aTi5NKD2q0"
      }
    },
    {
      "cell_type": "code",
      "source": [
        "#traintest data split:\n",
        "from sklearn.model_selection import train_test_split\n",
        "xtrain, xtest, ytrain, ytest = train_test_split(x,y,test_size=0.3)\n",
        "print(xtrain.shape,ytrain.shape)\n",
        "print(xtest.shape,ytest.shape)\n"
      ],
      "metadata": {
        "colab": {
          "base_uri": "https://localhost:8080/"
        },
        "id": "MqqF4_b0doBa",
        "outputId": "472c03f4-6918-49a6-e82d-04365a44047b"
      },
      "execution_count": 187,
      "outputs": [
        {
          "output_type": "stream",
          "name": "stdout",
          "text": [
            "(1278, 2) (1278,)\n",
            "(549, 2) (549,)\n"
          ]
        }
      ]
    },
    {
      "cell_type": "markdown",
      "source": [
        "Scale the data using the minmaxscaler.\n",
        "Also reshape the data inorder to give input to the model"
      ],
      "metadata": {
        "id": "5brU4yFGD5ky"
      }
    },
    {
      "cell_type": "code",
      "source": [
        "#scaling data using minmaxscaler:\n",
        "from sklearn.preprocessing import MinMaxScaler\n",
        "scX=MinMaxScaler()\n",
        "scY=MinMaxScaler()\n",
        "xtrain=scX.fit_transform(xtrain)\n",
        "xtest=scX.fit_transform(xtest)\n",
        "ytrain=scY.fit_transform(ytrain.reshape(-1,1))\n",
        "ytest=scY.fit_transform(ytest.reshape(-1,1))\n",
        "xtrain=np.expand_dims(xtrain,-1)\n",
        "ytrain=np.expand_dims(ytrain,-1)\n",
        "print(xtrain.shape,ytrain.shape)\n",
        "print(xtest.shape,ytest.shape)"
      ],
      "metadata": {
        "colab": {
          "base_uri": "https://localhost:8080/"
        },
        "id": "4KhXPztFeLY3",
        "outputId": "ed989177-2b15-43bc-e206-36b1fff47505"
      },
      "execution_count": 188,
      "outputs": [
        {
          "output_type": "stream",
          "name": "stdout",
          "text": [
            "(1278, 2, 1) (1278, 1, 1)\n",
            "(549, 2) (549, 1)\n"
          ]
        }
      ]
    },
    {
      "cell_type": "markdown",
      "source": [
        "Now build the model. I have use the simplernn model from tensorflow."
      ],
      "metadata": {
        "id": "_2jIDA7LEA2g"
      }
    },
    {
      "cell_type": "code",
      "source": [
        "#building the model using functional api:\n",
        "from tensorflow.keras.layers import Input, Dense, Dropout, SimpleRNN, LSTM\n",
        "from tensorflow.keras.models import Model\n",
        "model = tf.keras.Sequential()\n",
        "model.add(SimpleRNN(16, activation='relu'))\n",
        "#model.add(Dropout(0.1))\n",
        "model.add(Dense(16))\n",
        "model.compile(loss='mse', optimizer='adam')\n",
        "r = model.fit(xtrain, ytrain, epochs=100, validation_split=0.3)"
      ],
      "metadata": {
        "colab": {
          "base_uri": "https://localhost:8080/"
        },
        "id": "FXwRMmjIzSNj",
        "outputId": "df3fa078-51cc-45c3-eac7-9bc488f844d8"
      },
      "execution_count": 189,
      "outputs": [
        {
          "output_type": "stream",
          "name": "stdout",
          "text": [
            "Epoch 1/100\n",
            "28/28 [==============================] - 1s 12ms/step - loss: 0.1843 - val_loss: 0.1335\n",
            "Epoch 2/100\n",
            "28/28 [==============================] - 0s 5ms/step - loss: 0.1074 - val_loss: 0.0780\n",
            "Epoch 3/100\n",
            "28/28 [==============================] - 0s 5ms/step - loss: 0.0617 - val_loss: 0.0440\n",
            "Epoch 4/100\n",
            "28/28 [==============================] - 0s 5ms/step - loss: 0.0340 - val_loss: 0.0252\n",
            "Epoch 5/100\n",
            "28/28 [==============================] - 0s 4ms/step - loss: 0.0200 - val_loss: 0.0173\n",
            "Epoch 6/100\n",
            "28/28 [==============================] - 0s 4ms/step - loss: 0.0145 - val_loss: 0.0145\n",
            "Epoch 7/100\n",
            "28/28 [==============================] - 0s 5ms/step - loss: 0.0120 - val_loss: 0.0126\n",
            "Epoch 8/100\n",
            "28/28 [==============================] - 0s 5ms/step - loss: 0.0101 - val_loss: 0.0107\n",
            "Epoch 9/100\n",
            "28/28 [==============================] - 0s 4ms/step - loss: 0.0084 - val_loss: 0.0093\n",
            "Epoch 10/100\n",
            "28/28 [==============================] - 0s 5ms/step - loss: 0.0070 - val_loss: 0.0081\n",
            "Epoch 11/100\n",
            "28/28 [==============================] - 0s 6ms/step - loss: 0.0059 - val_loss: 0.0072\n",
            "Epoch 12/100\n",
            "28/28 [==============================] - 0s 5ms/step - loss: 0.0051 - val_loss: 0.0065\n",
            "Epoch 13/100\n",
            "28/28 [==============================] - 0s 4ms/step - loss: 0.0045 - val_loss: 0.0060\n",
            "Epoch 14/100\n",
            "28/28 [==============================] - 0s 4ms/step - loss: 0.0039 - val_loss: 0.0055\n",
            "Epoch 15/100\n",
            "28/28 [==============================] - 0s 4ms/step - loss: 0.0034 - val_loss: 0.0051\n",
            "Epoch 16/100\n",
            "28/28 [==============================] - 0s 5ms/step - loss: 0.0031 - val_loss: 0.0047\n",
            "Epoch 17/100\n",
            "28/28 [==============================] - 0s 5ms/step - loss: 0.0029 - val_loss: 0.0046\n",
            "Epoch 18/100\n",
            "28/28 [==============================] - 0s 4ms/step - loss: 0.0028 - val_loss: 0.0046\n",
            "Epoch 19/100\n",
            "28/28 [==============================] - 0s 4ms/step - loss: 0.0027 - val_loss: 0.0044\n",
            "Epoch 20/100\n",
            "28/28 [==============================] - 0s 4ms/step - loss: 0.0026 - val_loss: 0.0044\n",
            "Epoch 21/100\n",
            "28/28 [==============================] - 0s 6ms/step - loss: 0.0026 - val_loss: 0.0043\n",
            "Epoch 22/100\n",
            "28/28 [==============================] - 0s 4ms/step - loss: 0.0026 - val_loss: 0.0043\n",
            "Epoch 23/100\n",
            "28/28 [==============================] - 0s 6ms/step - loss: 0.0025 - val_loss: 0.0043\n",
            "Epoch 24/100\n",
            "28/28 [==============================] - 0s 4ms/step - loss: 0.0025 - val_loss: 0.0043\n",
            "Epoch 25/100\n",
            "28/28 [==============================] - 0s 5ms/step - loss: 0.0025 - val_loss: 0.0043\n",
            "Epoch 26/100\n",
            "28/28 [==============================] - 0s 4ms/step - loss: 0.0025 - val_loss: 0.0043\n",
            "Epoch 27/100\n",
            "28/28 [==============================] - 0s 4ms/step - loss: 0.0025 - val_loss: 0.0042\n",
            "Epoch 28/100\n",
            "28/28 [==============================] - 0s 4ms/step - loss: 0.0025 - val_loss: 0.0043\n",
            "Epoch 29/100\n",
            "28/28 [==============================] - 0s 4ms/step - loss: 0.0025 - val_loss: 0.0042\n",
            "Epoch 30/100\n",
            "28/28 [==============================] - 0s 5ms/step - loss: 0.0024 - val_loss: 0.0042\n",
            "Epoch 31/100\n",
            "28/28 [==============================] - 0s 4ms/step - loss: 0.0024 - val_loss: 0.0042\n",
            "Epoch 32/100\n",
            "28/28 [==============================] - 0s 4ms/step - loss: 0.0024 - val_loss: 0.0042\n",
            "Epoch 33/100\n",
            "28/28 [==============================] - 0s 4ms/step - loss: 0.0025 - val_loss: 0.0042\n",
            "Epoch 34/100\n",
            "28/28 [==============================] - 0s 4ms/step - loss: 0.0024 - val_loss: 0.0042\n",
            "Epoch 35/100\n",
            "28/28 [==============================] - 0s 5ms/step - loss: 0.0024 - val_loss: 0.0042\n",
            "Epoch 36/100\n",
            "28/28 [==============================] - 0s 4ms/step - loss: 0.0024 - val_loss: 0.0042\n",
            "Epoch 37/100\n",
            "28/28 [==============================] - 0s 4ms/step - loss: 0.0024 - val_loss: 0.0042\n",
            "Epoch 38/100\n",
            "28/28 [==============================] - 0s 4ms/step - loss: 0.0024 - val_loss: 0.0042\n",
            "Epoch 39/100\n",
            "28/28 [==============================] - 0s 4ms/step - loss: 0.0024 - val_loss: 0.0042\n",
            "Epoch 40/100\n",
            "28/28 [==============================] - 0s 4ms/step - loss: 0.0024 - val_loss: 0.0042\n",
            "Epoch 41/100\n",
            "28/28 [==============================] - 0s 4ms/step - loss: 0.0024 - val_loss: 0.0041\n",
            "Epoch 42/100\n",
            "28/28 [==============================] - 0s 4ms/step - loss: 0.0023 - val_loss: 0.0042\n",
            "Epoch 43/100\n",
            "28/28 [==============================] - 0s 4ms/step - loss: 0.0024 - val_loss: 0.0042\n",
            "Epoch 44/100\n",
            "28/28 [==============================] - 0s 4ms/step - loss: 0.0024 - val_loss: 0.0042\n",
            "Epoch 45/100\n",
            "28/28 [==============================] - 0s 4ms/step - loss: 0.0024 - val_loss: 0.0043\n",
            "Epoch 46/100\n",
            "28/28 [==============================] - 0s 4ms/step - loss: 0.0023 - val_loss: 0.0042\n",
            "Epoch 47/100\n",
            "28/28 [==============================] - 0s 4ms/step - loss: 0.0024 - val_loss: 0.0041\n",
            "Epoch 48/100\n",
            "28/28 [==============================] - 0s 4ms/step - loss: 0.0023 - val_loss: 0.0042\n",
            "Epoch 49/100\n",
            "28/28 [==============================] - 0s 4ms/step - loss: 0.0023 - val_loss: 0.0041\n",
            "Epoch 50/100\n",
            "28/28 [==============================] - 0s 6ms/step - loss: 0.0023 - val_loss: 0.0041\n",
            "Epoch 51/100\n",
            "28/28 [==============================] - 0s 6ms/step - loss: 0.0023 - val_loss: 0.0041\n",
            "Epoch 52/100\n",
            "28/28 [==============================] - 0s 7ms/step - loss: 0.0023 - val_loss: 0.0042\n",
            "Epoch 53/100\n",
            "28/28 [==============================] - 0s 6ms/step - loss: 0.0023 - val_loss: 0.0042\n",
            "Epoch 54/100\n",
            "28/28 [==============================] - 0s 6ms/step - loss: 0.0023 - val_loss: 0.0041\n",
            "Epoch 55/100\n",
            "28/28 [==============================] - 0s 7ms/step - loss: 0.0023 - val_loss: 0.0041\n",
            "Epoch 56/100\n",
            "28/28 [==============================] - 0s 6ms/step - loss: 0.0023 - val_loss: 0.0042\n",
            "Epoch 57/100\n",
            "28/28 [==============================] - 0s 7ms/step - loss: 0.0023 - val_loss: 0.0041\n",
            "Epoch 58/100\n",
            "28/28 [==============================] - 0s 6ms/step - loss: 0.0023 - val_loss: 0.0042\n",
            "Epoch 59/100\n",
            "28/28 [==============================] - 0s 7ms/step - loss: 0.0023 - val_loss: 0.0041\n",
            "Epoch 60/100\n",
            "28/28 [==============================] - 0s 6ms/step - loss: 0.0023 - val_loss: 0.0042\n",
            "Epoch 61/100\n",
            "28/28 [==============================] - 0s 6ms/step - loss: 0.0023 - val_loss: 0.0041\n",
            "Epoch 62/100\n",
            "28/28 [==============================] - 0s 7ms/step - loss: 0.0023 - val_loss: 0.0041\n",
            "Epoch 63/100\n",
            "28/28 [==============================] - 0s 5ms/step - loss: 0.0023 - val_loss: 0.0041\n",
            "Epoch 64/100\n",
            "28/28 [==============================] - 0s 8ms/step - loss: 0.0023 - val_loss: 0.0041\n",
            "Epoch 65/100\n",
            "28/28 [==============================] - 0s 5ms/step - loss: 0.0023 - val_loss: 0.0042\n",
            "Epoch 66/100\n",
            "28/28 [==============================] - 0s 4ms/step - loss: 0.0023 - val_loss: 0.0041\n",
            "Epoch 67/100\n",
            "28/28 [==============================] - 0s 4ms/step - loss: 0.0023 - val_loss: 0.0042\n",
            "Epoch 68/100\n",
            "28/28 [==============================] - 0s 4ms/step - loss: 0.0023 - val_loss: 0.0042\n",
            "Epoch 69/100\n",
            "28/28 [==============================] - 0s 4ms/step - loss: 0.0023 - val_loss: 0.0041\n",
            "Epoch 70/100\n",
            "28/28 [==============================] - 0s 4ms/step - loss: 0.0023 - val_loss: 0.0041\n",
            "Epoch 71/100\n",
            "28/28 [==============================] - 0s 4ms/step - loss: 0.0023 - val_loss: 0.0041\n",
            "Epoch 72/100\n",
            "28/28 [==============================] - 0s 4ms/step - loss: 0.0023 - val_loss: 0.0041\n",
            "Epoch 73/100\n",
            "28/28 [==============================] - 0s 4ms/step - loss: 0.0023 - val_loss: 0.0041\n",
            "Epoch 74/100\n",
            "28/28 [==============================] - 0s 4ms/step - loss: 0.0023 - val_loss: 0.0041\n",
            "Epoch 75/100\n",
            "28/28 [==============================] - 0s 4ms/step - loss: 0.0022 - val_loss: 0.0041\n",
            "Epoch 76/100\n",
            "28/28 [==============================] - 0s 4ms/step - loss: 0.0023 - val_loss: 0.0041\n",
            "Epoch 77/100\n",
            "28/28 [==============================] - 0s 4ms/step - loss: 0.0023 - val_loss: 0.0041\n",
            "Epoch 78/100\n",
            "28/28 [==============================] - 0s 4ms/step - loss: 0.0023 - val_loss: 0.0041\n",
            "Epoch 79/100\n",
            "28/28 [==============================] - 0s 5ms/step - loss: 0.0023 - val_loss: 0.0041\n",
            "Epoch 80/100\n",
            "28/28 [==============================] - 0s 4ms/step - loss: 0.0023 - val_loss: 0.0041\n",
            "Epoch 81/100\n",
            "28/28 [==============================] - 0s 4ms/step - loss: 0.0023 - val_loss: 0.0041\n",
            "Epoch 82/100\n",
            "28/28 [==============================] - 0s 4ms/step - loss: 0.0023 - val_loss: 0.0041\n",
            "Epoch 83/100\n",
            "28/28 [==============================] - 0s 4ms/step - loss: 0.0023 - val_loss: 0.0042\n",
            "Epoch 84/100\n",
            "28/28 [==============================] - 0s 4ms/step - loss: 0.0023 - val_loss: 0.0041\n",
            "Epoch 85/100\n",
            "28/28 [==============================] - 0s 4ms/step - loss: 0.0024 - val_loss: 0.0044\n",
            "Epoch 86/100\n",
            "28/28 [==============================] - 0s 4ms/step - loss: 0.0023 - val_loss: 0.0041\n",
            "Epoch 87/100\n",
            "28/28 [==============================] - 0s 4ms/step - loss: 0.0023 - val_loss: 0.0041\n",
            "Epoch 88/100\n",
            "28/28 [==============================] - 0s 4ms/step - loss: 0.0022 - val_loss: 0.0041\n",
            "Epoch 89/100\n",
            "28/28 [==============================] - 0s 4ms/step - loss: 0.0023 - val_loss: 0.0043\n",
            "Epoch 90/100\n",
            "28/28 [==============================] - 0s 4ms/step - loss: 0.0023 - val_loss: 0.0041\n",
            "Epoch 91/100\n",
            "28/28 [==============================] - 0s 4ms/step - loss: 0.0023 - val_loss: 0.0041\n",
            "Epoch 92/100\n",
            "28/28 [==============================] - 0s 4ms/step - loss: 0.0022 - val_loss: 0.0042\n",
            "Epoch 93/100\n",
            "28/28 [==============================] - 0s 5ms/step - loss: 0.0023 - val_loss: 0.0042\n",
            "Epoch 94/100\n",
            "28/28 [==============================] - 0s 4ms/step - loss: 0.0023 - val_loss: 0.0041\n",
            "Epoch 95/100\n",
            "28/28 [==============================] - 0s 4ms/step - loss: 0.0022 - val_loss: 0.0041\n",
            "Epoch 96/100\n",
            "28/28 [==============================] - 0s 4ms/step - loss: 0.0023 - val_loss: 0.0041\n",
            "Epoch 97/100\n",
            "28/28 [==============================] - 0s 4ms/step - loss: 0.0022 - val_loss: 0.0041\n",
            "Epoch 98/100\n",
            "28/28 [==============================] - 0s 4ms/step - loss: 0.0023 - val_loss: 0.0042\n",
            "Epoch 99/100\n",
            "28/28 [==============================] - 0s 6ms/step - loss: 0.0023 - val_loss: 0.0041\n",
            "Epoch 100/100\n",
            "28/28 [==============================] - 0s 4ms/step - loss: 0.0022 - val_loss: 0.0041\n"
          ]
        }
      ]
    },
    {
      "cell_type": "markdown",
      "source": [
        "As we plot the loss, it is quite lower than before."
      ],
      "metadata": {
        "id": "-mdJk-gSEGqi"
      }
    },
    {
      "cell_type": "code",
      "source": [
        "plt.plot(r.history['loss'])\n",
        "plt.plot(r.history['val_loss'])"
      ],
      "metadata": {
        "colab": {
          "base_uri": "https://localhost:8080/",
          "height": 447
        },
        "id": "g18MmGW3hLtN",
        "outputId": "16fef7a8-0e0d-408e-c5ab-578ae830685d"
      },
      "execution_count": 190,
      "outputs": [
        {
          "output_type": "execute_result",
          "data": {
            "text/plain": [
              "[<matplotlib.lines.Line2D at 0x7f737484ceb0>]"
            ]
          },
          "metadata": {},
          "execution_count": 190
        },
        {
          "output_type": "display_data",
          "data": {
            "text/plain": [
              "<Figure size 640x480 with 1 Axes>"
            ],
            "image/png": "[encoded data removed]"
          },
          "metadata": {}
        }
      ]
    },
    {
      "cell_type": "markdown",
      "source": [
        "Now we perform predicition for ytrain data, and plot it again the original ytrain data."
      ],
      "metadata": {
        "id": "j3b4r16cEK0o"
      }
    },
    {
      "cell_type": "code",
      "source": [
        "pred1 = model.predict(xtrain)"
      ],
      "metadata": {
        "colab": {
          "base_uri": "https://localhost:8080/"
        },
        "id": "fLUwOPBfk4mw",
        "outputId": "92477585-d66d-4ffd-f846-9f9d056dfeda"
      },
      "execution_count": 191,
      "outputs": [
        {
          "output_type": "stream",
          "name": "stdout",
          "text": [
            "40/40 [==============================] - 0s 3ms/step\n"
          ]
        }
      ]
    },
    {
      "cell_type": "code",
      "source": [
        "ytrain=ytrain.reshape(1278,1)\n",
        "pred1.shape"
      ],
      "metadata": {
        "colab": {
          "base_uri": "https://localhost:8080/"
        },
        "id": "kNnL6i94mSH4",
        "outputId": "f5612c1a-4d6e-474a-daf5-2c608aec0b24"
      },
      "execution_count": 192,
      "outputs": [
        {
          "output_type": "execute_result",
          "data": {
            "text/plain": [
              "(1278, 16)"
            ]
          },
          "metadata": {},
          "execution_count": 192
        }
      ]
    },
    {
      "cell_type": "code",
      "source": [
        "plt.plot(pred1[:,0], label='prediction')\n",
        "plt.plot(ytrain, label='target')\n",
        "plt.legend()"
      ],
      "metadata": {
        "colab": {
          "base_uri": "https://localhost:8080/",
          "height": 447
        },
        "id": "A7Ch1FcEkb9w",
        "outputId": "75853904-f542-4818-947d-9dbf5c424e85"
      },
      "execution_count": 193,
      "outputs": [
        {
          "output_type": "execute_result",
          "data": {
            "text/plain": [
              "<matplotlib.legend.Legend at 0x7f73892472e0>"
            ]
          },
          "metadata": {},
          "execution_count": 193
        },
        {
          "output_type": "display_data",
          "data": {
            "text/plain": [
              "<Figure size 640x480 with 1 Axes>"
            ],
            "image/png": "[encoded data removed]"
          },
          "metadata": {}
        }
      ]
    },
    {
      "cell_type": "markdown",
      "source": [
        "As we can see from above the predictions look quite good. Now we do the same for the xtest."
      ],
      "metadata": {
        "id": "Gxxj6JJ0ERW7"
      }
    },
    {
      "cell_type": "code",
      "source": [
        "xtest.shape"
      ],
      "metadata": {
        "colab": {
          "base_uri": "https://localhost:8080/"
        },
        "id": "vyNF85RHoMkr",
        "outputId": "64cd4df2-fe02-4daf-d72a-090207c1eb26"
      },
      "execution_count": 194,
      "outputs": [
        {
          "output_type": "execute_result",
          "data": {
            "text/plain": [
              "(549, 2)"
            ]
          },
          "metadata": {},
          "execution_count": 194
        }
      ]
    },
    {
      "cell_type": "code",
      "source": [
        "xtest=np.expand_dims(xtest,-1)\n",
        "#\n",
        "xtest.shape"
      ],
      "metadata": {
        "colab": {
          "base_uri": "https://localhost:8080/"
        },
        "id": "x0E-6FvyoIqX",
        "outputId": "aba565f8-a871-48c0-916f-cbb16348e947"
      },
      "execution_count": 195,
      "outputs": [
        {
          "output_type": "execute_result",
          "data": {
            "text/plain": [
              "(549, 2, 1)"
            ]
          },
          "metadata": {},
          "execution_count": 195
        }
      ]
    },
    {
      "cell_type": "code",
      "source": [
        "pred2 = model.predict(xtest)\n",
        "plt.plot(pred2[:,0], label='prediction')\n",
        "plt.plot(ytest, label='target')\n",
        "plt.legend()"
      ],
      "metadata": {
        "colab": {
          "base_uri": "https://localhost:8080/",
          "height": 465
        },
        "id": "NRl-UjyooWd4",
        "outputId": "f97887db-2d18-4a6d-c568-c3fae86af082"
      },
      "execution_count": 196,
      "outputs": [
        {
          "output_type": "stream",
          "name": "stdout",
          "text": [
            "18/18 [==============================] - 0s 2ms/step\n"
          ]
        },
        {
          "output_type": "execute_result",
          "data": {
            "text/plain": [
              "<matplotlib.legend.Legend at 0x7f7389d5f280>"
            ]
          },
          "metadata": {},
          "execution_count": 196
        },
        {
          "output_type": "display_data",
          "data": {
            "text/plain": [
              "<Figure size 640x480 with 1 Axes>"
            ],
            "image/png": "[encoded data removed]"
          },
          "metadata": {}
        }
      ]
    },
    {
      "cell_type": "markdown",
      "source": [
        "The prediction for xtest of same data is also good. Now let us confirm it with our metrics: RMSE and R2 score"
      ],
      "metadata": {
        "id": "S_hSfMcuEbie"
      }
    },
    {
      "cell_type": "code",
      "source": [
        "model_RMSE = np.sqrt(np.mean((ytest - pred2[:,0]) ** 2))\n",
        "print(model_RMSE)"
      ],
      "metadata": {
        "colab": {
          "base_uri": "https://localhost:8080/"
        },
        "id": "zmA30-al1XOk",
        "outputId": "4920f937-6eef-43cc-d6ba-62b1ec901db3"
      },
      "execution_count": 197,
      "outputs": [
        {
          "output_type": "stream",
          "name": "stdout",
          "text": [
            "0.22895137415931804\n"
          ]
        }
      ]
    },
    {
      "cell_type": "markdown",
      "source": [
        "RMSE for test data is quite low, which is good sign."
      ],
      "metadata": {
        "id": "-QIG-GxGEjN1"
      }
    },
    {
      "cell_type": "code",
      "source": [
        "model_RMSE = np.sqrt(np.mean((ytrain - pred1[:,0]) ** 2))\n",
        "print(model_RMSE)"
      ],
      "metadata": {
        "colab": {
          "base_uri": "https://localhost:8080/"
        },
        "id": "LbFktuZC1oop",
        "outputId": "e0e1ad0c-48ff-4ca8-cddf-6a9ca9982229"
      },
      "execution_count": 198,
      "outputs": [
        {
          "output_type": "stream",
          "name": "stdout",
          "text": [
            "0.17438400167895116\n"
          ]
        }
      ]
    },
    {
      "cell_type": "markdown",
      "source": [
        "RMSE for train data is also low, indicating that the model has learned the pattern."
      ],
      "metadata": {
        "id": "vAGShNXnEohF"
      }
    },
    {
      "cell_type": "markdown",
      "source": [
        "R2 SCORE:"
      ],
      "metadata": {
        "id": "NqYtj98CEvbJ"
      }
    },
    {
      "cell_type": "code",
      "source": [
        "from sklearn.metrics import r2_score\n",
        "r2_score(ytrain,pred1[:,0])"
      ],
      "metadata": {
        "colab": {
          "base_uri": "https://localhost:8080/"
        },
        "id": "zlxnlMsH1wlA",
        "outputId": "3de64294-e6f3-4ac8-e377-f42cd9f91403"
      },
      "execution_count": 199,
      "outputs": [
        {
          "output_type": "execute_result",
          "data": {
            "text/plain": [
              "0.8327843829331593"
            ]
          },
          "metadata": {},
          "execution_count": 199
        }
      ]
    },
    {
      "cell_type": "markdown",
      "source": [
        "R2 score for test data is 83.27% which is accurate enough."
      ],
      "metadata": {
        "id": "Y28QQjLCE-2D"
      }
    },
    {
      "cell_type": "code",
      "source": [
        "from sklearn.metrics import r2_score\n",
        "r2_score(ytest,pred2[:,0])"
      ],
      "metadata": {
        "colab": {
          "base_uri": "https://localhost:8080/"
        },
        "id": "p8a7M4ha1_sg",
        "outputId": "6d0b7837-da7b-4277-9aa0-7b0a4ed1e750"
      },
      "execution_count": 200,
      "outputs": [
        {
          "output_type": "execute_result",
          "data": {
            "text/plain": [
              "0.780160754068092"
            ]
          },
          "metadata": {},
          "execution_count": 200
        }
      ]
    },
    {
      "cell_type": "markdown",
      "source": [
        "R2 score for test data is 78.01% which is quite a good metrics value."
      ],
      "metadata": {
        "id": "_576hrfpExzJ"
      }
    },
    {
      "cell_type": "markdown",
      "source": [
        "UNSEEN DATA PREDICTION:\n",
        "\n",
        "We have used the data for the time period of january 2018 to january 2023.\n",
        "Let us try using our model to check the prediction for february month."
      ],
      "metadata": {
        "id": "LYCSBmCgFFYJ"
      }
    },
    {
      "cell_type": "code",
      "source": [
        "#forecast for unseen data:\n",
        "from google.colab import files\n",
        "uploaded = files.upload()"
      ],
      "metadata": {
        "colab": {
          "base_uri": "https://localhost:8080/",
          "height": 73
        },
        "id": "4M8Sw4032GhK",
        "outputId": "14cadf2b-0061-4e82-f460-b6ba05659bcd"
      },
      "execution_count": 201,
      "outputs": [
        {
          "output_type": "display_data",
          "data": {
            "text/plain": [
              "<IPython.core.display.HTML object>"
            ],
            "text/html": [
              "\n",
              "     <input type=\"file\" id=\"files-d1301af0-7b26-4968-b734-173ce9c28538\" name=\"files[]\" multiple disabled\n",
              "        style=\"border:none\" />\n",
              "     <output id=\"result-d1301af0-7b26-4968-b734-173ce9c28538\">\n",
              "      Upload widget is only available when the cell has been executed in the\n",
              "      current browser session. Please rerun this cell to enable.\n",
              "      </output>\n",
              "      <script>// Copyright 2017 Google LLC\n",
              "//\n",
              "// Licensed under the Apache License, Version 2.0 (the \"License\");\n",
              "// you may not use this file except in compliance with the License.\n",
              "// You may obtain a copy of the License at\n",
              "//\n",
              "//      http://www.apache.org/licenses/LICENSE-2.0\n",
              "//\n",
              "// Unless required by applicable law or agreed to in writing, software\n",
              "// distributed under the License is distributed on an \"AS IS\" BASIS,\n",
              "// WITHOUT WARRANTIES OR CONDITIONS OF ANY KIND, either express or implied.\n",
              "// See the License for the specific language governing permissions and\n",
              "// limitations under the License.\n",
              "\n",
              "/**\n",
              " * @fileoverview Helpers for google.colab Python module.\n",
              " */\n",
              "(function(scope) {\n",
              "function span(text, styleAttributes = {}) {\n",
              "  const element = document.createElement('span');\n",
              "  element.textContent = text;\n",
              "  for (const key of Object.keys(styleAttributes)) {\n",
              "    element.style[key] = styleAttributes[key];\n",
              "  }\n",
              "  return element;\n",
              "}\n",
              "\n",
              "// Max number of bytes which will be uploaded at a time.\n",
              "const MAX_PAYLOAD_SIZE = 100 * 1024;\n",
              "\n",
              "function _uploadFiles(inputId, outputId) {\n",
              "  const steps = uploadFilesStep(inputId, outputId);\n",
              "  const outputElement = document.getElementById(outputId);\n",
              "  // Cache steps on the outputElement to make it available for the next call\n",
              "  // to uploadFilesContinue from Python.\n",
              "  outputElement.steps = steps;\n",
              "\n",
              "  return _uploadFilesContinue(outputId);\n",
              "}\n",
              "\n",
              "// This is roughly an async generator (not supported in the browser yet),\n",
              "// where there are multiple asynchronous steps and the Python side is going\n",
              "// to poll for completion of each step.\n",
              "// This uses a Promise to block the python side on completion of each step,\n",
              "// then passes the result of the previous step as the input to the next step.\n",
              "function _uploadFilesContinue(outputId) {\n",
              "  const outputElement = document.getElementById(outputId);\n",
              "  const steps = outputElement.steps;\n",
              "\n",
              "  const next = steps.next(outputElement.lastPromiseValue);\n",
              "  return Promise.resolve(next.value.promise).then((value) => {\n",
              "    // Cache the last promise value to make it available to the next\n",
              "    // step of the generator.\n",
              "    outputElement.lastPromiseValue = value;\n",
              "    return next.value.response;\n",
              "  });\n",
              "}\n",
              "\n",
              "/**\n",
              " * Generator function which is called between each async step of the upload\n",
              " * process.\n",
              " * @param {string} inputId Element ID of the input file picker element.\n",
              " * @param {string} outputId Element ID of the output display.\n",
              " * @return {!Iterable<!Object>} Iterable of next steps.\n",
              " */\n",
              "function* uploadFilesStep(inputId, outputId) {\n",
              "  const inputElement = document.getElementById(inputId);\n",
              "  inputElement.disabled = false;\n",
              "\n",
              "  const outputElement = document.getElementById(outputId);\n",
              "  outputElement.innerHTML = '';\n",
              "\n",
              "  const pickedPromise = new Promise((resolve) => {\n",
              "    inputElement.addEventListener('change', (e) => {\n",
              "      resolve(e.target.files);\n",
              "    });\n",
              "  });\n",
              "\n",
              "  const cancel = document.createElement('button');\n",
              "  inputElement.parentElement.appendChild(cancel);\n",
              "  cancel.textContent = 'Cancel upload';\n",
              "  const cancelPromise = new Promise((resolve) => {\n",
              "    cancel.onclick = () => {\n",
              "      resolve(null);\n",
              "    };\n",
              "  });\n",
              "\n",
              "  // Wait for the user to pick the files.\n",
              "  const files = yield {\n",
              "    promise: Promise.race([pickedPromise, cancelPromise]),\n",
              "    response: {\n",
              "      action: 'starting',\n",
              "    }\n",
              "  };\n",
              "\n",
              "  cancel.remove();\n",
              "\n",
              "  // Disable the input element since further picks are not allowed.\n",
              "  inputElement.disabled = true;\n",
              "\n",
              "  if (!files) {\n",
              "    return {\n",
              "      response: {\n",
              "        action: 'complete',\n",
              "      }\n",
              "    };\n",
              "  }\n",
              "\n",
              "  for (const file of files) {\n",
              "    const li = document.createElement('li');\n",
              "    li.append(span(file.name, {fontWeight: 'bold'}));\n",
              "    li.append(span(\n",
              "        `(${file.type || 'n/a'}) - ${file.size} bytes, ` +\n",
              "        `last modified: ${\n",
              "            file.lastModifiedDate ? file.lastModifiedDate.toLocaleDateString() :\n",
              "                                    'n/a'} - `));\n",
              "    const percent = span('0% done');\n",
              "    li.appendChild(percent);\n",
              "\n",
              "    outputElement.appendChild(li);\n",
              "\n",
              "    const fileDataPromise = new Promise((resolve) => {\n",
              "      const reader = new FileReader();\n",
              "      reader.onload = (e) => {\n",
              "        resolve(e.target.result);\n",
              "      };\n",
              "      reader.readAsArrayBuffer(file);\n",
              "    });\n",
              "    // Wait for the data to be ready.\n",
              "    let fileData = yield {\n",
              "      promise: fileDataPromise,\n",
              "      response: {\n",
              "        action: 'continue',\n",
              "      }\n",
              "    };\n",
              "\n",
              "    // Use a chunked sending to avoid message size limits. See b/62115660.\n",
              "    let position = 0;\n",
              "    do {\n",
              "      const length = Math.min(fileData.byteLength - position, MAX_PAYLOAD_SIZE);\n",
              "      const chunk = new Uint8Array(fileData, position, length);\n",
              "      position += length;\n",
              "\n",
              "      const base64 = btoa(String.fromCharCode.apply(null, chunk));\n",
              "      yield {\n",
              "        response: {\n",
              "          action: 'append',\n",
              "          file: file.name,\n",
              "          data: base64,\n",
              "        },\n",
              "      };\n",
              "\n",
              "      let percentDone = fileData.byteLength === 0 ?\n",
              "          100 :\n",
              "          Math.round((position / fileData.byteLength) * 100);\n",
              "      percent.textContent = `${percentDone}% done`;\n",
              "\n",
              "    } while (position < fileData.byteLength);\n",
              "  }\n",
              "\n",
              "  // All done.\n",
              "  yield {\n",
              "    response: {\n",
              "      action: 'complete',\n",
              "    }\n",
              "  };\n",
              "}\n",
              "\n",
              "scope.google = scope.google || {};\n",
              "scope.google.colab = scope.google.colab || {};\n",
              "scope.google.colab._files = {\n",
              "  _uploadFiles,\n",
              "  _uploadFilesContinue,\n",
              "};\n",
              "})(self);\n",
              "</script> "
            ]
          },
          "metadata": {}
        },
        {
          "output_type": "stream",
          "name": "stdout",
          "text": [
            "Saving forecast.xlsx to forecast.xlsx\n"
          ]
        }
      ]
    },
    {
      "cell_type": "code",
      "source": [
        "df2=pd.read_excel('forecast.xlsx')\n",
        "df2.head()"
      ],
      "metadata": {
        "colab": {
          "base_uri": "https://localhost:8080/",
          "height": 206
        },
        "id": "4hF3ZDGi8fWE",
        "outputId": "93f728a5-8e4a-4a70-940a-5dd8bcf23bfd"
      },
      "execution_count": 217,
      "outputs": [
        {
          "output_type": "execute_result",
          "data": {
            "text/plain": [
              "         day   flow  occ  speed  lanepts   %obs\n",
              "0 2023-02-01  62450  7.9   48.5     1152   99.0\n",
              "1 2023-02-02  63213  7.7   52.7     1152   99.7\n",
              "2 2023-02-03  56993  7.0   63.3     1152  100.0\n",
              "3 2023-02-04  52149  4.1   66.5     1152  100.0\n",
              "4 2023-02-05  45884  3.5   65.9     1152  100.0"
            ],
            "text/html": [
              "\n",
              "  <div id=\"df-ac65b03b-ead7-4a69-93de-9f5f5465e4dc\" class=\"colab-df-container\">\n",
              "    <div>\n",
              "<style scoped>\n",
              "    .dataframe tbody tr th:only-of-type {\n",
              "        vertical-align: middle;\n",
              "    }\n",
              "\n",
              "    .dataframe tbody tr th {\n",
              "        vertical-align: top;\n",
              "    }\n",
              "\n",
              "    .dataframe thead th {\n",
              "        text-align: right;\n",
              "    }\n",
              "</style>\n",
              "<table border=\"1\" class=\"dataframe\">\n",
              "  <thead>\n",
              "    <tr style=\"text-align: right;\">\n",
              "      <th></th>\n",
              "      <th>day</th>\n",
              "      <th>flow</th>\n",
              "      <th>occ</th>\n",
              "      <th>speed</th>\n",
              "      <th>lanepts</th>\n",
              "      <th>%obs</th>\n",
              "    </tr>\n",
              "  </thead>\n",
              "  <tbody>\n",
              "    <tr>\n",
              "      <th>0</th>\n",
              "      <td>2023-02-01</td>\n",
              "      <td>62450</td>\n",
              "      <td>7.9</td>\n",
              "      <td>48.5</td>\n",
              "      <td>1152</td>\n",
              "      <td>99.0</td>\n",
              "    </tr>\n",
              "    <tr>\n",
              "      <th>1</th>\n",
              "      <td>2023-02-02</td>\n",
              "      <td>63213</td>\n",
              "      <td>7.7</td>\n",
              "      <td>52.7</td>\n",
              "      <td>1152</td>\n",
              "      <td>99.7</td>\n",
              "    </tr>\n",
              "    <tr>\n",
              "      <th>2</th>\n",
              "      <td>2023-02-03</td>\n",
              "      <td>56993</td>\n",
              "      <td>7.0</td>\n",
              "      <td>63.3</td>\n",
              "      <td>1152</td>\n",
              "      <td>100.0</td>\n",
              "    </tr>\n",
              "    <tr>\n",
              "      <th>3</th>\n",
              "      <td>2023-02-04</td>\n",
              "      <td>52149</td>\n",
              "      <td>4.1</td>\n",
              "      <td>66.5</td>\n",
              "      <td>1152</td>\n",
              "      <td>100.0</td>\n",
              "    </tr>\n",
              "    <tr>\n",
              "      <th>4</th>\n",
              "      <td>2023-02-05</td>\n",
              "      <td>45884</td>\n",
              "      <td>3.5</td>\n",
              "      <td>65.9</td>\n",
              "      <td>1152</td>\n",
              "      <td>100.0</td>\n",
              "    </tr>\n",
              "  </tbody>\n",
              "</table>\n",
              "</div>\n",
              "    <div class=\"colab-df-buttons\">\n",
              "\n",
              "  <div class=\"colab-df-container\">\n",
              "    <button class=\"colab-df-convert\" onclick=\"convertToInteractive('df-ac65b03b-ead7-4a69-93de-9f5f5465e4dc')\"\n",
              "            title=\"Convert this dataframe to an interactive table.\"\n",
              "            style=\"display:none;\">\n",
              "\n",
              "  <svg xmlns=\"http://www.w3.org/2000/svg\" height=\"24px\" viewBox=\"0 -960 960 960\">\n",
              "    <path d=\"M120-120v-720h720v720H120Zm60-500h600v-160H180v160Zm220 220h160v-160H400v160Zm0 220h160v-160H400v160ZM180-400h160v-160H180v160Zm440 0h160v-160H620v160ZM180-180h160v-160H180v160Zm440 0h160v-160H620v160Z\"/>\n",
              "  </svg>\n",
              "    </button>\n",
              "\n",
              "  <style>\n",
              "    .colab-df-container {\n",
              "      display:flex;\n",
              "      gap: 12px;\n",
              "    }\n",
              "\n",
              "    .colab-df-convert {\n",
              "      background-color: #E8F0FE;\n",
              "      border: none;\n",
              "      border-radius: 50%;\n",
              "      cursor: pointer;\n",
              "      display: none;\n",
              "      fill: #1967D2;\n",
              "      height: 32px;\n",
              "      padding: 0 0 0 0;\n",
              "      width: 32px;\n",
              "    }\n",
              "\n",
              "    .colab-df-convert:hover {\n",
              "      background-color: #E2EBFA;\n",
              "      box-shadow: 0px 1px 2px rgba(60, 64, 67, 0.3), 0px 1px 3px 1px rgba(60, 64, 67, 0.15);\n",
              "      fill: #174EA6;\n",
              "    }\n",
              "\n",
              "    .colab-df-buttons div {\n",
              "      margin-bottom: 4px;\n",
              "    }\n",
              "\n",
              "    [theme=dark] .colab-df-convert {\n",
              "      background-color: #3B4455;\n",
              "      fill: #D2E3FC;\n",
              "    }\n",
              "\n",
              "    [theme=dark] .colab-df-convert:hover {\n",
              "      background-color: #434B5C;\n",
              "      box-shadow: 0px 1px 3px 1px rgba(0, 0, 0, 0.15);\n",
              "      filter: drop-shadow(0px 1px 2px rgba(0, 0, 0, 0.3));\n",
              "      fill: #FFFFFF;\n",
              "    }\n",
              "  </style>\n",
              "\n",
              "    <script>\n",
              "      const buttonEl =\n",
              "        document.querySelector('#df-ac65b03b-ead7-4a69-93de-9f5f5465e4dc button.colab-df-convert');\n",
              "      buttonEl.style.display =\n",
              "        google.colab.kernel.accessAllowed ? 'block' : 'none';\n",
              "\n",
              "      async function convertToInteractive(key) {\n",
              "        const element = document.querySelector('#df-ac65b03b-ead7-4a69-93de-9f5f5465e4dc');\n",
              "        const dataTable =\n",
              "          await google.colab.kernel.invokeFunction('convertToInteractive',\n",
              "                                                    [key], {});\n",
              "        if (!dataTable) return;\n",
              "\n",
              "        const docLinkHtml = 'Like what you see? Visit the ' +\n",
              "          '<a target=\"_blank\" href=https://colab.research.google.com/notebooks/data_table.ipynb>data table notebook</a>'\n",
              "          + ' to learn more about interactive tables.';\n",
              "        element.innerHTML = '';\n",
              "        dataTable['output_type'] = 'display_data';\n",
              "        await google.colab.output.renderOutput(dataTable, element);\n",
              "        const docLink = document.createElement('div');\n",
              "        docLink.innerHTML = docLinkHtml;\n",
              "        element.appendChild(docLink);\n",
              "      }\n",
              "    </script>\n",
              "  </div>\n",
              "\n",
              "\n",
              "<div id=\"df-0b80646e-49ad-47ff-a846-cf9e9521fa2b\">\n",
              "  <button class=\"colab-df-quickchart\" onclick=\"quickchart('df-0b80646e-49ad-47ff-a846-cf9e9521fa2b')\"\n",
              "            title=\"Suggest charts.\"\n",
              "            style=\"display:none;\">\n",
              "\n",
              "<svg xmlns=\"http://www.w3.org/2000/svg\" height=\"24px\"viewBox=\"0 0 24 24\"\n",
              "     width=\"24px\">\n",
              "    <g>\n",
              "        <path d=\"M19 3H5c-1.1 0-2 .9-2 2v14c0 1.1.9 2 2 2h14c1.1 0 2-.9 2-2V5c0-1.1-.9-2-2-2zM9 17H7v-7h2v7zm4 0h-2V7h2v10zm4 0h-2v-4h2v4z\"/>\n",
              "    </g>\n",
              "</svg>\n",
              "  </button>\n",
              "\n",
              "<style>\n",
              "  .colab-df-quickchart {\n",
              "      --bg-color: #E8F0FE;\n",
              "      --fill-color: #1967D2;\n",
              "      --hover-bg-color: #E2EBFA;\n",
              "      --hover-fill-color: #174EA6;\n",
              "      --disabled-fill-color: #AAA;\n",
              "      --disabled-bg-color: #DDD;\n",
              "  }\n",
              "\n",
              "  [theme=dark] .colab-df-quickchart {\n",
              "      --bg-color: #3B4455;\n",
              "      --fill-color: #D2E3FC;\n",
              "      --hover-bg-color: #434B5C;\n",
              "      --hover-fill-color: #FFFFFF;\n",
              "      --disabled-bg-color: #3B4455;\n",
              "      --disabled-fill-color: #666;\n",
              "  }\n",
              "\n",
              "  .colab-df-quickchart {\n",
              "    background-color: var(--bg-color);\n",
              "    border: none;\n",
              "    border-radius: 50%;\n",
              "    cursor: pointer;\n",
              "    display: none;\n",
              "    fill: var(--fill-color);\n",
              "    height: 32px;\n",
              "    padding: 0;\n",
              "    width: 32px;\n",
              "  }\n",
              "\n",
              "  .colab-df-quickchart:hover {\n",
              "    background-color: var(--hover-bg-color);\n",
              "    box-shadow: 0 1px 2px rgba(60, 64, 67, 0.3), 0 1px 3px 1px rgba(60, 64, 67, 0.15);\n",
              "    fill: var(--button-hover-fill-color);\n",
              "  }\n",
              "\n",
              "  .colab-df-quickchart-complete:disabled,\n",
              "  .colab-df-quickchart-complete:disabled:hover {\n",
              "    background-color: var(--disabled-bg-color);\n",
              "    fill: var(--disabled-fill-color);\n",
              "    box-shadow: none;\n",
              "  }\n",
              "\n",
              "  .colab-df-spinner {\n",
              "    border: 2px solid var(--fill-color);\n",
              "    border-color: transparent;\n",
              "    border-bottom-color: var(--fill-color);\n",
              "    animation:\n",
              "      spin 1s steps(1) infinite;\n",
              "  }\n",
              "\n",
              "  @keyframes spin {\n",
              "    0% {\n",
              "      border-color: transparent;\n",
              "      border-bottom-color: var(--fill-color);\n",
              "      border-left-color: var(--fill-color);\n",
              "    }\n",
              "    20% {\n",
              "      border-color: transparent;\n",
              "      border-left-color: var(--fill-color);\n",
              "      border-top-color: var(--fill-color);\n",
              "    }\n",
              "    30% {\n",
              "      border-color: transparent;\n",
              "      border-left-color: var(--fill-color);\n",
              "      border-top-color: var(--fill-color);\n",
              "      border-right-color: var(--fill-color);\n",
              "    }\n",
              "    40% {\n",
              "      border-color: transparent;\n",
              "      border-right-color: var(--fill-color);\n",
              "      border-top-color: var(--fill-color);\n",
              "    }\n",
              "    60% {\n",
              "      border-color: transparent;\n",
              "      border-right-color: var(--fill-color);\n",
              "    }\n",
              "    80% {\n",
              "      border-color: transparent;\n",
              "      border-right-color: var(--fill-color);\n",
              "      border-bottom-color: var(--fill-color);\n",
              "    }\n",
              "    90% {\n",
              "      border-color: transparent;\n",
              "      border-bottom-color: var(--fill-color);\n",
              "    }\n",
              "  }\n",
              "</style>\n",
              "\n",
              "  <script>\n",
              "    async function quickchart(key) {\n",
              "      const quickchartButtonEl =\n",
              "        document.querySelector('#' + key + ' button');\n",
              "      quickchartButtonEl.disabled = true;  // To prevent multiple clicks.\n",
              "      quickchartButtonEl.classList.add('colab-df-spinner');\n",
              "      try {\n",
              "        const charts = await google.colab.kernel.invokeFunction(\n",
              "            'suggestCharts', [key], {});\n",
              "      } catch (error) {\n",
              "        console.error('Error during call to suggestCharts:', error);\n",
              "      }\n",
              "      quickchartButtonEl.classList.remove('colab-df-spinner');\n",
              "      quickchartButtonEl.classList.add('colab-df-quickchart-complete');\n",
              "    }\n",
              "    (() => {\n",
              "      let quickchartButtonEl =\n",
              "        document.querySelector('#df-0b80646e-49ad-47ff-a846-cf9e9521fa2b button');\n",
              "      quickchartButtonEl.style.display =\n",
              "        google.colab.kernel.accessAllowed ? 'block' : 'none';\n",
              "    })();\n",
              "  </script>\n",
              "</div>\n",
              "    </div>\n",
              "  </div>\n"
            ]
          },
          "metadata": {},
          "execution_count": 217
        }
      ]
    },
    {
      "cell_type": "code",
      "source": [
        "nx=np.array(df2[['speed','flow']])\n",
        "ny=np.array(df2[['occ']])"
      ],
      "metadata": {
        "id": "9X6PkUzs8z5O"
      },
      "execution_count": 218,
      "outputs": []
    },
    {
      "cell_type": "code",
      "source": [
        "#scaling:\n",
        "nx = scX.fit_transform(nx)\n",
        "ny = scY.fit_transform(ny)\n",
        "nx.shape"
      ],
      "metadata": {
        "colab": {
          "base_uri": "https://localhost:8080/"
        },
        "id": "WHuzu51M9rKu",
        "outputId": "2e87c788-1d50-4ca5-b1d0-788f6625c445"
      },
      "execution_count": 219,
      "outputs": [
        {
          "output_type": "execute_result",
          "data": {
            "text/plain": [
              "(28, 2)"
            ]
          },
          "metadata": {},
          "execution_count": 219
        }
      ]
    },
    {
      "cell_type": "code",
      "source": [
        "nx=np.expand_dims(nx,-1)\n",
        "npred=model.predict(nx)"
      ],
      "metadata": {
        "colab": {
          "base_uri": "https://localhost:8080/"
        },
        "id": "6VuiIi0C89Vz",
        "outputId": "f599af0d-7892-49d9-8efa-87d640d42e9e"
      },
      "execution_count": 220,
      "outputs": [
        {
          "output_type": "stream",
          "name": "stdout",
          "text": [
            "1/1 [==============================] - 0s 29ms/step\n"
          ]
        }
      ]
    },
    {
      "cell_type": "code",
      "source": [
        "npred.shape"
      ],
      "metadata": {
        "colab": {
          "base_uri": "https://localhost:8080/"
        },
        "id": "-sriPuFs9TxR",
        "outputId": "aa7041da-bdb8-4861-d1af-882230681ed8"
      },
      "execution_count": 221,
      "outputs": [
        {
          "output_type": "execute_result",
          "data": {
            "text/plain": [
              "(28, 16)"
            ]
          },
          "metadata": {},
          "execution_count": 221
        }
      ]
    },
    {
      "cell_type": "code",
      "source": [
        "plt.plot(npred[:,0], label='prediction')\n",
        "plt.plot(ny, label='target')\n",
        "plt.legend()"
      ],
      "metadata": {
        "colab": {
          "base_uri": "https://localhost:8080/",
          "height": 447
        },
        "id": "ruUylQ629RRb",
        "outputId": "03142e16-fa4c-4a95-9472-0dda8bce89f2"
      },
      "execution_count": 222,
      "outputs": [
        {
          "output_type": "execute_result",
          "data": {
            "text/plain": [
              "<matplotlib.legend.Legend at 0x7f738085cfd0>"
            ]
          },
          "metadata": {},
          "execution_count": 222
        },
        {
          "output_type": "display_data",
          "data": {
            "text/plain": [
              "<Figure size 640x480 with 1 Axes>"
            ],
            "image/png": "[encoded data removed]"
          },
          "metadata": {}
        }
      ]
    },
    {
      "cell_type": "markdown",
      "source": [
        "As we plot the prediction against the actual values we see that our model has captured the data's pattern quite good and we can see that the error between prediction and target values is very less.\n",
        "\n",
        "Even the r2 score is above 78%."
      ],
      "metadata": {
        "id": "OOweDL2QFYd3"
      }
    },
    {
      "cell_type": "code",
      "source": [
        "print('RMSE:',np.sqrt(np.mean((ny - npred[:,0]) ** 2)))\n",
        "print('R2 Score:',r2_score(ny,npred[:,0]))"
      ],
      "metadata": {
        "colab": {
          "base_uri": "https://localhost:8080/"
        },
        "id": "gvA_J72wFvUt",
        "outputId": "ce484606-d26f-4dc2-e3c2-bbfb38fd7b14"
      },
      "execution_count": 226,
      "outputs": [
        {
          "output_type": "stream",
          "name": "stdout",
          "text": [
            "RMSE: 0.41700805972059085\n",
            "R2 Score: 0.8353347996361974\n"
          ]
        }
      ]
    }
  ]
}